{
 "cells": [
  {
   "cell_type": "markdown",
   "id": "4d1ffff2",
   "metadata": {},
   "source": [
    "Clone the Repository"
   ]
  },
  {
   "cell_type": "code",
   "execution_count": null,
   "id": "df27da0f",
   "metadata": {
    "vscode": {
     "languageId": "plaintext"
    }
   },
   "outputs": [],
   "source": [
    "!git clone https://github.com/cristobal-GC/pypsa-spain.git"
   ]
  },
  {
   "cell_type": "code",
   "execution_count": null,
   "id": "d1cdf891",
   "metadata": {
    "vscode": {
     "languageId": "plaintext"
    }
   },
   "outputs": [],
   "source": [
    "%cd pypsa-spain\n",
    "!ls"
   ]
  },
  {
   "cell_type": "markdown",
   "id": "be4123ed",
   "metadata": {},
   "source": [
    "Install Python Dependencies"
   ]
  },
  {
   "cell_type": "code",
   "execution_count": null,
   "id": "a9f40707",
   "metadata": {
    "vscode": {
     "languageId": "plaintext"
    }
   },
   "outputs": [],
   "source": [
    "!conda env create -f envs/linux-64.lock.yaml"
   ]
  },
  {
   "cell_type": "code",
   "execution_count": null,
   "id": "547c4632",
   "metadata": {
    "vscode": {
     "languageId": "plaintext"
    }
   },
   "outputs": [],
   "source": [
    "!conda activate pypsa-spain"
   ]
  },
  {
   "cell_type": "code",
   "execution_count": null,
   "id": "f69afee0",
   "metadata": {
    "vscode": {
     "languageId": "plaintext"
    }
   },
   "outputs": [],
   "source": [
    "!conda install -c conda-forge pypsa"
   ]
  },
  {
   "cell_type": "code",
   "execution_count": null,
   "id": "dd6caa26",
   "metadata": {
    "vscode": {
     "languageId": "plaintext"
    }
   },
   "outputs": [],
   "source": [
    "!conda install -c conda-forge ipopt coincbc"
   ]
  },
  {
   "cell_type": "code",
   "execution_count": null,
   "id": "4624171d",
   "metadata": {
    "vscode": {
     "languageId": "plaintext"
    }
   },
   "outputs": [],
   "source": [
    "!snakemake resources/networks/base.nc --configfile config/config_ES.yaml --cores 4"
   ]
  }
 ],
 "metadata": {
  "language_info": {
   "name": "python"
  }
 },
 "nbformat": 4,
 "nbformat_minor": 5
}
