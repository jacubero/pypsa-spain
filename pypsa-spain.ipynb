{
 "cells": [
  {
   "cell_type": "markdown",
   "id": "53429dd0",
   "metadata": {},
   "source": [
    "Install pypsa"
   ]
  },
  {
   "cell_type": "code",
   "execution_count": 1,
   "id": "22084987",
   "metadata": {},
   "outputs": [
    {
     "name": "stdout",
     "output_type": "stream",
     "text": [
      "Requirement already satisfied: pypsa in /usr/local/python/3.12.1/lib/python3.12/site-packages (0.35.2)\n",
      "Requirement already satisfied: numpy in /home/codespace/.local/lib/python3.12/site-packages (from pypsa) (2.3.1)\n",
      "Requirement already satisfied: scipy in /home/codespace/.local/lib/python3.12/site-packages (from pypsa) (1.16.0)\n",
      "Requirement already satisfied: pandas>=0.24 in /home/codespace/.local/lib/python3.12/site-packages (from pypsa) (2.3.1)\n",
      "Requirement already satisfied: xarray in /usr/local/python/3.12.1/lib/python3.12/site-packages (from pypsa) (2025.9.0)\n",
      "Requirement already satisfied: netcdf4 in /usr/local/python/3.12.1/lib/python3.12/site-packages (from pypsa) (1.7.2)\n",
      "Requirement already satisfied: linopy>=0.4 in /usr/local/python/3.12.1/lib/python3.12/site-packages (from pypsa) (0.5.7)\n",
      "Requirement already satisfied: matplotlib in /home/codespace/.local/lib/python3.12/site-packages (from pypsa) (3.10.3)\n",
      "Requirement already satisfied: plotly in /home/codespace/.local/lib/python3.12/site-packages (from pypsa) (6.2.0)\n",
      "Requirement already satisfied: seaborn in /home/codespace/.local/lib/python3.12/site-packages (from pypsa) (0.13.2)\n",
      "Requirement already satisfied: geopandas>=0.9 in /usr/local/python/3.12.1/lib/python3.12/site-packages (from pypsa) (1.1.1)\n",
      "Requirement already satisfied: shapely<2.1 in /usr/local/python/3.12.1/lib/python3.12/site-packages (from pypsa) (2.0.7)\n",
      "Requirement already satisfied: networkx>=2 in /home/codespace/.local/lib/python3.12/site-packages (from pypsa) (3.3)\n",
      "Requirement already satisfied: deprecation in /usr/local/python/3.12.1/lib/python3.12/site-packages (from pypsa) (2.1.0)\n",
      "Requirement already satisfied: validators in /usr/local/python/3.12.1/lib/python3.12/site-packages (from pypsa) (0.35.0)\n",
      "Requirement already satisfied: highspy in /usr/local/python/3.12.1/lib/python3.12/site-packages (from pypsa) (1.11.0)\n",
      "Requirement already satisfied: pyogrio>=0.7.2 in /usr/local/python/3.12.1/lib/python3.12/site-packages (from geopandas>=0.9->pypsa) (0.11.1)\n",
      "Requirement already satisfied: packaging in /home/codespace/.local/lib/python3.12/site-packages (from geopandas>=0.9->pypsa) (25.0)\n",
      "Requirement already satisfied: pyproj>=3.5.0 in /usr/local/python/3.12.1/lib/python3.12/site-packages (from geopandas>=0.9->pypsa) (3.7.2)\n",
      "Requirement already satisfied: bottleneck in /usr/local/python/3.12.1/lib/python3.12/site-packages (from linopy>=0.4->pypsa) (1.6.0)\n",
      "Requirement already satisfied: toolz in /usr/local/python/3.12.1/lib/python3.12/site-packages (from linopy>=0.4->pypsa) (1.0.0)\n",
      "Requirement already satisfied: numexpr in /usr/local/python/3.12.1/lib/python3.12/site-packages (from linopy>=0.4->pypsa) (2.12.0)\n",
      "Requirement already satisfied: dask>=0.18.0 in /usr/local/python/3.12.1/lib/python3.12/site-packages (from linopy>=0.4->pypsa) (2025.9.0)\n",
      "Requirement already satisfied: polars in /usr/local/python/3.12.1/lib/python3.12/site-packages (from linopy>=0.4->pypsa) (1.33.1)\n",
      "Requirement already satisfied: tqdm in /usr/local/python/3.12.1/lib/python3.12/site-packages (from linopy>=0.4->pypsa) (4.67.1)\n",
      "Requirement already satisfied: google-cloud-storage in /usr/local/python/3.12.1/lib/python3.12/site-packages (from linopy>=0.4->pypsa) (3.3.1)\n",
      "Requirement already satisfied: requests in /home/codespace/.local/lib/python3.12/site-packages (from linopy>=0.4->pypsa) (2.32.4)\n",
      "Requirement already satisfied: click>=8.1 in /usr/local/python/3.12.1/lib/python3.12/site-packages (from dask>=0.18.0->linopy>=0.4->pypsa) (8.2.1)\n",
      "Requirement already satisfied: cloudpickle>=3.0.0 in /usr/local/python/3.12.1/lib/python3.12/site-packages (from dask>=0.18.0->linopy>=0.4->pypsa) (3.1.1)\n",
      "Requirement already satisfied: fsspec>=2021.09.0 in /home/codespace/.local/lib/python3.12/site-packages (from dask>=0.18.0->linopy>=0.4->pypsa) (2024.6.1)\n",
      "Requirement already satisfied: partd>=1.4.0 in /usr/local/python/3.12.1/lib/python3.12/site-packages (from dask>=0.18.0->linopy>=0.4->pypsa) (1.4.2)\n",
      "Requirement already satisfied: pyyaml>=5.3.1 in /home/codespace/.local/lib/python3.12/site-packages (from dask>=0.18.0->linopy>=0.4->pypsa) (6.0.2)\n",
      "Requirement already satisfied: python-dateutil>=2.8.2 in /home/codespace/.local/lib/python3.12/site-packages (from pandas>=0.24->pypsa) (2.9.0.post0)\n",
      "Requirement already satisfied: pytz>=2020.1 in /home/codespace/.local/lib/python3.12/site-packages (from pandas>=0.24->pypsa) (2025.2)\n",
      "Requirement already satisfied: tzdata>=2022.7 in /home/codespace/.local/lib/python3.12/site-packages (from pandas>=0.24->pypsa) (2025.2)\n",
      "Requirement already satisfied: locket in /usr/local/python/3.12.1/lib/python3.12/site-packages (from partd>=1.4.0->dask>=0.18.0->linopy>=0.4->pypsa) (1.0.0)\n",
      "Requirement already satisfied: certifi in /home/codespace/.local/lib/python3.12/site-packages (from pyogrio>=0.7.2->geopandas>=0.9->pypsa) (2025.7.9)\n",
      "Requirement already satisfied: six>=1.5 in /home/codespace/.local/lib/python3.12/site-packages (from python-dateutil>=2.8.2->pandas>=0.24->pypsa) (1.17.0)\n",
      "Requirement already satisfied: google-auth<3.0.0,>=2.26.1 in /usr/local/python/3.12.1/lib/python3.12/site-packages (from google-cloud-storage->linopy>=0.4->pypsa) (2.40.3)\n",
      "Requirement already satisfied: google-api-core<3.0.0,>=2.15.0 in /usr/local/python/3.12.1/lib/python3.12/site-packages (from google-cloud-storage->linopy>=0.4->pypsa) (2.25.1)\n",
      "Requirement already satisfied: google-cloud-core<3.0.0,>=2.4.2 in /usr/local/python/3.12.1/lib/python3.12/site-packages (from google-cloud-storage->linopy>=0.4->pypsa) (2.4.3)\n",
      "Requirement already satisfied: google-resumable-media<3.0.0,>=2.7.2 in /usr/local/python/3.12.1/lib/python3.12/site-packages (from google-cloud-storage->linopy>=0.4->pypsa) (2.7.2)\n",
      "Requirement already satisfied: google-crc32c<2.0.0,>=1.1.3 in /usr/local/python/3.12.1/lib/python3.12/site-packages (from google-cloud-storage->linopy>=0.4->pypsa) (1.7.1)\n",
      "Requirement already satisfied: googleapis-common-protos<2.0.0,>=1.56.2 in /usr/local/python/3.12.1/lib/python3.12/site-packages (from google-api-core<3.0.0,>=2.15.0->google-cloud-storage->linopy>=0.4->pypsa) (1.70.0)\n",
      "Requirement already satisfied: protobuf!=3.20.0,!=3.20.1,!=4.21.0,!=4.21.1,!=4.21.2,!=4.21.3,!=4.21.4,!=4.21.5,<7.0.0,>=3.19.5 in /usr/local/python/3.12.1/lib/python3.12/site-packages (from google-api-core<3.0.0,>=2.15.0->google-cloud-storage->linopy>=0.4->pypsa) (6.32.0)\n",
      "Requirement already satisfied: proto-plus<2.0.0,>=1.22.3 in /usr/local/python/3.12.1/lib/python3.12/site-packages (from google-api-core<3.0.0,>=2.15.0->google-cloud-storage->linopy>=0.4->pypsa) (1.26.1)\n",
      "Requirement already satisfied: cachetools<6.0,>=2.0.0 in /usr/local/python/3.12.1/lib/python3.12/site-packages (from google-auth<3.0.0,>=2.26.1->google-cloud-storage->linopy>=0.4->pypsa) (5.5.2)\n",
      "Requirement already satisfied: pyasn1-modules>=0.2.1 in /usr/local/python/3.12.1/lib/python3.12/site-packages (from google-auth<3.0.0,>=2.26.1->google-cloud-storage->linopy>=0.4->pypsa) (0.4.2)\n",
      "Requirement already satisfied: rsa<5,>=3.1.4 in /usr/local/python/3.12.1/lib/python3.12/site-packages (from google-auth<3.0.0,>=2.26.1->google-cloud-storage->linopy>=0.4->pypsa) (4.9.1)\n",
      "Requirement already satisfied: charset_normalizer<4,>=2 in /home/codespace/.local/lib/python3.12/site-packages (from requests->linopy>=0.4->pypsa) (3.4.2)\n",
      "Requirement already satisfied: idna<4,>=2.5 in /home/codespace/.local/lib/python3.12/site-packages (from requests->linopy>=0.4->pypsa) (3.10)\n",
      "Requirement already satisfied: urllib3<3,>=1.21.1 in /home/codespace/.local/lib/python3.12/site-packages (from requests->linopy>=0.4->pypsa) (2.5.0)\n",
      "Requirement already satisfied: pyasn1>=0.1.3 in /usr/local/python/3.12.1/lib/python3.12/site-packages (from rsa<5,>=3.1.4->google-auth<3.0.0,>=2.26.1->google-cloud-storage->linopy>=0.4->pypsa) (0.6.1)\n",
      "Requirement already satisfied: contourpy>=1.0.1 in /home/codespace/.local/lib/python3.12/site-packages (from matplotlib->pypsa) (1.3.2)\n",
      "Requirement already satisfied: cycler>=0.10 in /home/codespace/.local/lib/python3.12/site-packages (from matplotlib->pypsa) (0.12.1)\n",
      "Requirement already satisfied: fonttools>=4.22.0 in /home/codespace/.local/lib/python3.12/site-packages (from matplotlib->pypsa) (4.58.5)\n",
      "Requirement already satisfied: kiwisolver>=1.3.1 in /home/codespace/.local/lib/python3.12/site-packages (from matplotlib->pypsa) (1.4.8)\n",
      "Requirement already satisfied: pillow>=8 in /home/codespace/.local/lib/python3.12/site-packages (from matplotlib->pypsa) (11.3.0)\n",
      "Requirement already satisfied: pyparsing>=2.3.1 in /home/codespace/.local/lib/python3.12/site-packages (from matplotlib->pypsa) (3.2.3)\n",
      "Requirement already satisfied: cftime in /usr/local/python/3.12.1/lib/python3.12/site-packages (from netcdf4->pypsa) (1.6.4.post1)\n",
      "Requirement already satisfied: narwhals>=1.15.1 in /home/codespace/.local/lib/python3.12/site-packages (from plotly->pypsa) (1.46.0)\n",
      "\n",
      "\u001b[1m[\u001b[0m\u001b[34;49mnotice\u001b[0m\u001b[1;39;49m]\u001b[0m\u001b[39;49m A new release of pip is available: \u001b[0m\u001b[31;49m25.1.1\u001b[0m\u001b[39;49m -> \u001b[0m\u001b[32;49m25.2\u001b[0m\n",
      "\u001b[1m[\u001b[0m\u001b[34;49mnotice\u001b[0m\u001b[1;39;49m]\u001b[0m\u001b[39;49m To update, run: \u001b[0m\u001b[32;49mpython3 -m pip install --upgrade pip\u001b[0m\n"
     ]
    }
   ],
   "source": [
    "!pip install pypsa"
   ]
  },
  {
   "cell_type": "code",
   "execution_count": 2,
   "id": "b5a49bda",
   "metadata": {},
   "outputs": [],
   "source": [
    "import pypsa"
   ]
  },
  {
   "cell_type": "markdown",
   "id": "1c3a3ba5",
   "metadata": {},
   "source": [
    "Make sure dependencies for geopandas and pyrosm are installed"
   ]
  },
  {
   "cell_type": "code",
   "execution_count": 3,
   "id": "7147937b",
   "metadata": {},
   "outputs": [
    {
     "name": "stdout",
     "output_type": "stream",
     "text": [
      "Requirement already satisfied: geopandas in /usr/local/python/3.12.1/lib/python3.12/site-packages (1.1.1)\n",
      "Requirement already satisfied: shapely in /usr/local/python/3.12.1/lib/python3.12/site-packages (2.0.7)\n",
      "Requirement already satisfied: fiona in /usr/local/python/3.12.1/lib/python3.12/site-packages (1.10.1)\n",
      "Requirement already satisfied: pyproj in /usr/local/python/3.12.1/lib/python3.12/site-packages (3.7.2)\n",
      "Collecting rtree\n",
      "  Downloading rtree-1.4.1-py3-none-manylinux_2_24_x86_64.manylinux_2_28_x86_64.whl.metadata (2.1 kB)\n",
      "Collecting pyrosm\n",
      "  Downloading pyrosm-0.6.2.tar.gz (2.5 MB)\n",
      "\u001b[2K     \u001b[90m━━━━━━━━━━━━━━━━━━━━━━━━━━━━━━━━━━━━━━━━\u001b[0m \u001b[32m2.5/2.5 MB\u001b[0m \u001b[31m54.9 MB/s\u001b[0m eta \u001b[36m0:00:00\u001b[0m\n",
      "\u001b[?25h  Installing build dependencies ... \u001b[?25ldone\n",
      "\u001b[?25h  Getting requirements to build wheel ... \u001b[?25ldone\n",
      "\u001b[?25h  Preparing metadata (pyproject.toml) ... \u001b[?25ldone\n",
      "\u001b[?25hRequirement already satisfied: numpy>=1.24 in /home/codespace/.local/lib/python3.12/site-packages (from geopandas) (2.3.1)\n",
      "Requirement already satisfied: pyogrio>=0.7.2 in /usr/local/python/3.12.1/lib/python3.12/site-packages (from geopandas) (0.11.1)\n",
      "Requirement already satisfied: packaging in /home/codespace/.local/lib/python3.12/site-packages (from geopandas) (25.0)\n",
      "Requirement already satisfied: pandas>=2.0.0 in /home/codespace/.local/lib/python3.12/site-packages (from geopandas) (2.3.1)\n",
      "Requirement already satisfied: attrs>=19.2.0 in /home/codespace/.local/lib/python3.12/site-packages (from fiona) (25.3.0)\n",
      "Requirement already satisfied: certifi in /home/codespace/.local/lib/python3.12/site-packages (from fiona) (2025.7.9)\n",
      "Requirement already satisfied: click~=8.0 in /usr/local/python/3.12.1/lib/python3.12/site-packages (from fiona) (8.2.1)\n",
      "Requirement already satisfied: click-plugins>=1.0 in /usr/local/python/3.12.1/lib/python3.12/site-packages (from fiona) (1.1.1.2)\n",
      "Requirement already satisfied: cligj>=0.5 in /usr/local/python/3.12.1/lib/python3.12/site-packages (from fiona) (0.7.2)\n",
      "Collecting python-rapidjson (from pyrosm)\n",
      "  Downloading python_rapidjson-1.21-cp312-cp312-manylinux_2_24_x86_64.manylinux_2_28_x86_64.whl.metadata (23 kB)\n",
      "Requirement already satisfied: setuptools>=18.0 in /home/codespace/.local/lib/python3.12/site-packages (from pyrosm) (80.9.0)\n",
      "Collecting cykhash (from pyrosm)\n",
      "  Downloading cykhash-2.0.1.tar.gz (44 kB)\n",
      "  Installing build dependencies ... \u001b[?25ldone\n",
      "\u001b[?25h  Getting requirements to build wheel ... \u001b[?25ldone\n",
      "\u001b[?25h  Preparing metadata (pyproject.toml) ... \u001b[?25ldone\n",
      "\u001b[?25hCollecting pyrobuf (from pyrosm)\n",
      "  Using cached pyrobuf-0.9.3-cp312-cp312-linux_x86_64.whl\n",
      "Requirement already satisfied: python-dateutil>=2.8.2 in /home/codespace/.local/lib/python3.12/site-packages (from pandas>=2.0.0->geopandas) (2.9.0.post0)\n",
      "Requirement already satisfied: pytz>=2020.1 in /home/codespace/.local/lib/python3.12/site-packages (from pandas>=2.0.0->geopandas) (2025.2)\n",
      "Requirement already satisfied: tzdata>=2022.7 in /home/codespace/.local/lib/python3.12/site-packages (from pandas>=2.0.0->geopandas) (2025.2)\n",
      "Requirement already satisfied: six>=1.5 in /home/codespace/.local/lib/python3.12/site-packages (from python-dateutil>=2.8.2->pandas>=2.0.0->geopandas) (1.17.0)\n",
      "Requirement already satisfied: jinja2>=2.8 in /home/codespace/.local/lib/python3.12/site-packages (from pyrobuf->pyrosm) (3.1.6)\n",
      "Collecting cython>=0.23 (from pyrobuf->pyrosm)\n",
      "  Using cached cython-3.1.3-cp312-cp312-manylinux2014_x86_64.manylinux_2_17_x86_64.manylinux_2_28_x86_64.whl.metadata (4.7 kB)\n",
      "Requirement already satisfied: MarkupSafe>=2.0 in /home/codespace/.local/lib/python3.12/site-packages (from jinja2>=2.8->pyrobuf->pyrosm) (3.0.2)\n",
      "Downloading rtree-1.4.1-py3-none-manylinux_2_24_x86_64.manylinux_2_28_x86_64.whl (507 kB)\n",
      "Using cached cython-3.1.3-cp312-cp312-manylinux2014_x86_64.manylinux_2_17_x86_64.manylinux_2_28_x86_64.whl (3.3 MB)\n",
      "Downloading python_rapidjson-1.21-cp312-cp312-manylinux_2_24_x86_64.manylinux_2_28_x86_64.whl (1.7 MB)\n",
      "\u001b[2K   \u001b[90m━━━━━━━━━━━━━━━━━━━━━━━━━━━━━━━━━━━━━━━━\u001b[0m \u001b[32m1.7/1.7 MB\u001b[0m \u001b[31m63.3 MB/s\u001b[0m eta \u001b[36m0:00:00\u001b[0m\n",
      "\u001b[?25hBuilding wheels for collected packages: pyrosm, cykhash\n",
      "  Building wheel for pyrosm (pyproject.toml) ... \u001b[?25ldone\n",
      "\u001b[?25h  Created wheel for pyrosm: filename=pyrosm-0.6.2-cp312-cp312-linux_x86_64.whl size=8904159 sha256=023ab9ec4a158ef85f0f143dd70deacb97b3dde634582b886e55bec8c661436b\n",
      "  Stored in directory: /home/codespace/.cache/pip/wheels/33/aa/81/7751cbc2166a4d8dfd6da1cd0c44979037568083df9b065bc8\n",
      "  Building wheel for cykhash (pyproject.toml) ... \u001b[?25ldone\n",
      "\u001b[?25h  Created wheel for cykhash: filename=cykhash-2.0.1-cp312-cp312-linux_x86_64.whl size=4478871 sha256=e3f59558fb95dff5182122d86a4ebc1e6bc3ddb80f8c904a42dc46060fbd1f95\n",
      "  Stored in directory: /home/codespace/.cache/pip/wheels/a2/77/1d/31be3fa0ba1ca7157eea3f73a568ebadc822ee599312b1afac\n",
      "Successfully built pyrosm cykhash\n",
      "Installing collected packages: cykhash, rtree, python-rapidjson, cython, pyrobuf, pyrosm\n",
      "\u001b[2K   \u001b[90m━━━━━━━━━━━━━━━━━━━━━━━━━━━━━━━━━━━━━━━━\u001b[0m \u001b[32m6/6\u001b[0m [pyrosm]2m5/6\u001b[0m [pyrosm]]\n",
      "\u001b[1A\u001b[2KSuccessfully installed cykhash-2.0.1 cython-3.1.3 pyrobuf-0.9.3 pyrosm-0.6.2 python-rapidjson-1.21 rtree-1.4.1\n",
      "\n",
      "\u001b[1m[\u001b[0m\u001b[34;49mnotice\u001b[0m\u001b[1;39;49m]\u001b[0m\u001b[39;49m A new release of pip is available: \u001b[0m\u001b[31;49m25.1.1\u001b[0m\u001b[39;49m -> \u001b[0m\u001b[32;49m25.2\u001b[0m\n",
      "\u001b[1m[\u001b[0m\u001b[34;49mnotice\u001b[0m\u001b[1;39;49m]\u001b[0m\u001b[39;49m To update, run: \u001b[0m\u001b[32;49mpython3 -m pip install --upgrade pip\u001b[0m\n"
     ]
    }
   ],
   "source": [
    "!pip install geopandas shapely fiona pyproj rtree pyrosm"
   ]
  },
  {
   "cell_type": "markdown",
   "id": "52fa98e9",
   "metadata": {},
   "source": [
    "Install snakemake and all the needed libraries"
   ]
  },
  {
   "cell_type": "code",
   "execution_count": 4,
   "id": "2bfb4d8e",
   "metadata": {},
   "outputs": [
    {
     "name": "stdout",
     "output_type": "stream",
     "text": [
      "Requirement already satisfied: snakemake in /usr/local/python/3.12.1/lib/python3.12/site-packages (9.11.2)\n",
      "Requirement already satisfied: atlite in /usr/local/python/3.12.1/lib/python3.12/site-packages (0.4.1)\n",
      "Requirement already satisfied: snakemake-storage-plugin-http in /usr/local/python/3.12.1/lib/python3.12/site-packages (0.3.0)\n",
      "Requirement already satisfied: appdirs in /usr/local/python/3.12.1/lib/python3.12/site-packages (from snakemake) (1.4.4)\n",
      "Requirement already satisfied: immutables in /usr/local/python/3.12.1/lib/python3.12/site-packages (from snakemake) (0.21)\n",
      "Requirement already satisfied: configargparse in /usr/local/python/3.12.1/lib/python3.12/site-packages (from snakemake) (1.7.1)\n",
      "Requirement already satisfied: connection_pool>=0.0.3 in /usr/local/python/3.12.1/lib/python3.12/site-packages (from snakemake) (0.0.3)\n",
      "Requirement already satisfied: docutils in /usr/local/python/3.12.1/lib/python3.12/site-packages (from snakemake) (0.22)\n",
      "Requirement already satisfied: gitpython in /home/codespace/.local/lib/python3.12/site-packages (from snakemake) (3.1.44)\n",
      "Requirement already satisfied: humanfriendly in /usr/local/python/3.12.1/lib/python3.12/site-packages (from snakemake) (10.0)\n",
      "Requirement already satisfied: jinja2<4.0,>=3.0 in /home/codespace/.local/lib/python3.12/site-packages (from snakemake) (3.1.6)\n",
      "Requirement already satisfied: jsonschema in /home/codespace/.local/lib/python3.12/site-packages (from snakemake) (4.24.0)\n",
      "Requirement already satisfied: nbformat in /home/codespace/.local/lib/python3.12/site-packages (from snakemake) (5.10.4)\n",
      "Requirement already satisfied: packaging>=24.0 in /home/codespace/.local/lib/python3.12/site-packages (from snakemake) (25.0)\n",
      "Requirement already satisfied: psutil in /home/codespace/.local/lib/python3.12/site-packages (from snakemake) (7.0.0)\n",
      "Requirement already satisfied: pulp<3.3,>=2.3.1 in /usr/local/python/3.12.1/lib/python3.12/site-packages (from snakemake) (3.2.2)\n",
      "Requirement already satisfied: pyyaml in /home/codespace/.local/lib/python3.12/site-packages (from snakemake) (6.0.2)\n",
      "Requirement already satisfied: referencing in /home/codespace/.local/lib/python3.12/site-packages (from snakemake) (0.36.2)\n",
      "Requirement already satisfied: requests<3.0,>=2.8.1 in /home/codespace/.local/lib/python3.12/site-packages (from snakemake) (2.32.4)\n",
      "Requirement already satisfied: reretry in /usr/local/python/3.12.1/lib/python3.12/site-packages (from snakemake) (0.11.8)\n",
      "Requirement already satisfied: smart-open<8.0,>=4.0 in /usr/local/python/3.12.1/lib/python3.12/site-packages (from snakemake) (7.3.1)\n",
      "Requirement already satisfied: snakemake-interface-executor-plugins<10.0,>=9.3.2 in /usr/local/python/3.12.1/lib/python3.12/site-packages (from snakemake) (9.3.9)\n",
      "Requirement already satisfied: snakemake-interface-common<2.0,>=1.20.1 in /usr/local/python/3.12.1/lib/python3.12/site-packages (from snakemake) (1.21.0)\n",
      "Requirement already satisfied: snakemake-interface-storage-plugins<5.0,>=4.1.0 in /usr/local/python/3.12.1/lib/python3.12/site-packages (from snakemake) (4.2.2)\n",
      "Requirement already satisfied: snakemake-interface-report-plugins<2.0.0,>=1.2.0 in /usr/local/python/3.12.1/lib/python3.12/site-packages (from snakemake) (1.2.0)\n",
      "Requirement already satisfied: snakemake-interface-logger-plugins<2.0.0,>=1.1.0 in /usr/local/python/3.12.1/lib/python3.12/site-packages (from snakemake) (1.2.4)\n",
      "Requirement already satisfied: snakemake-interface-scheduler-plugins<3.0.0,>=2.0.0 in /usr/local/python/3.12.1/lib/python3.12/site-packages (from snakemake) (2.0.1)\n",
      "Requirement already satisfied: tabulate in /usr/local/python/3.12.1/lib/python3.12/site-packages (from snakemake) (0.9.0)\n",
      "Requirement already satisfied: throttler in /usr/local/python/3.12.1/lib/python3.12/site-packages (from snakemake) (1.2.2)\n",
      "Requirement already satisfied: wrapt in /usr/local/python/3.12.1/lib/python3.12/site-packages (from snakemake) (1.17.3)\n",
      "Requirement already satisfied: yte<2.0,>=1.5.5 in /usr/local/python/3.12.1/lib/python3.12/site-packages (from snakemake) (1.9.0)\n",
      "Requirement already satisfied: dpath<3.0.0,>=2.1.6 in /usr/local/python/3.12.1/lib/python3.12/site-packages (from snakemake) (2.2.0)\n",
      "Requirement already satisfied: conda-inject<2.0,>=1.3.1 in /usr/local/python/3.12.1/lib/python3.12/site-packages (from snakemake) (1.3.2)\n",
      "Requirement already satisfied: MarkupSafe>=2.0 in /home/codespace/.local/lib/python3.12/site-packages (from jinja2<4.0,>=3.0->snakemake) (3.0.2)\n",
      "Requirement already satisfied: charset_normalizer<4,>=2 in /home/codespace/.local/lib/python3.12/site-packages (from requests<3.0,>=2.8.1->snakemake) (3.4.2)\n",
      "Requirement already satisfied: idna<4,>=2.5 in /home/codespace/.local/lib/python3.12/site-packages (from requests<3.0,>=2.8.1->snakemake) (3.10)\n",
      "Requirement already satisfied: urllib3<3,>=1.21.1 in /home/codespace/.local/lib/python3.12/site-packages (from requests<3.0,>=2.8.1->snakemake) (2.5.0)\n",
      "Requirement already satisfied: certifi>=2017.4.17 in /home/codespace/.local/lib/python3.12/site-packages (from requests<3.0,>=2.8.1->snakemake) (2025.7.9)\n",
      "Requirement already satisfied: argparse-dataclass>=2.0.0 in /usr/local/python/3.12.1/lib/python3.12/site-packages (from snakemake-interface-common<2.0,>=1.20.1->snakemake) (2.0.0)\n",
      "Requirement already satisfied: typing-extensions in /home/codespace/.local/lib/python3.12/site-packages (from atlite) (4.14.1)\n",
      "Requirement already satisfied: numpy in /home/codespace/.local/lib/python3.12/site-packages (from atlite) (2.3.1)\n",
      "Requirement already satisfied: scipy in /home/codespace/.local/lib/python3.12/site-packages (from atlite) (1.16.0)\n",
      "Requirement already satisfied: pandas>=0.25 in /home/codespace/.local/lib/python3.12/site-packages (from atlite) (2.3.1)\n",
      "Requirement already satisfied: bottleneck in /usr/local/python/3.12.1/lib/python3.12/site-packages (from atlite) (1.6.0)\n",
      "Requirement already satisfied: numexpr in /usr/local/python/3.12.1/lib/python3.12/site-packages (from atlite) (2.12.0)\n",
      "Requirement already satisfied: xarray>=2024.03.0 in /usr/local/python/3.12.1/lib/python3.12/site-packages (from atlite) (2025.9.0)\n",
      "Requirement already satisfied: netcdf4 in /usr/local/python/3.12.1/lib/python3.12/site-packages (from atlite) (1.7.2)\n",
      "Requirement already satisfied: dask>=2021.10.0 in /usr/local/python/3.12.1/lib/python3.12/site-packages (from atlite) (2025.9.0)\n",
      "Requirement already satisfied: toolz in /usr/local/python/3.12.1/lib/python3.12/site-packages (from atlite) (1.0.0)\n",
      "Requirement already satisfied: rasterio!=1.4.0,!=1.4.1 in /usr/local/python/3.12.1/lib/python3.12/site-packages (from atlite) (1.4.3)\n",
      "Requirement already satisfied: shapely in /usr/local/python/3.12.1/lib/python3.12/site-packages (from atlite) (2.0.7)\n",
      "Requirement already satisfied: progressbar2 in /usr/local/python/3.12.1/lib/python3.12/site-packages (from atlite) (4.5.0)\n",
      "Requirement already satisfied: tqdm in /usr/local/python/3.12.1/lib/python3.12/site-packages (from atlite) (4.67.1)\n",
      "Requirement already satisfied: pyproj>=2 in /usr/local/python/3.12.1/lib/python3.12/site-packages (from atlite) (3.7.2)\n",
      "Requirement already satisfied: geopandas in /usr/local/python/3.12.1/lib/python3.12/site-packages (from atlite) (1.1.1)\n",
      "Requirement already satisfied: cdsapi>=0.7.4 in /usr/local/python/3.12.1/lib/python3.12/site-packages (from atlite) (0.7.6)\n",
      "Requirement already satisfied: cfgrib>=0.9.15.0 in /usr/local/python/3.12.1/lib/python3.12/site-packages (from atlite) (0.9.15.0)\n",
      "Requirement already satisfied: h5netcdf>=1.6.1 in /usr/local/python/3.12.1/lib/python3.12/site-packages (from atlite) (1.6.4)\n",
      "Requirement already satisfied: requests-oauthlib<2.0.0,>=1.3.1 in /usr/local/python/3.12.1/lib/python3.12/site-packages (from snakemake-storage-plugin-http) (1.3.1)\n",
      "Requirement already satisfied: oauthlib>=3.0.0 in /usr/local/python/3.12.1/lib/python3.12/site-packages (from requests-oauthlib<2.0.0,>=1.3.1->snakemake-storage-plugin-http) (3.3.1)\n",
      "Requirement already satisfied: ecmwf-datastores-client in /usr/local/python/3.12.1/lib/python3.12/site-packages (from cdsapi>=0.7.4->atlite) (0.4.0)\n",
      "Requirement already satisfied: attrs>=19.2 in /home/codespace/.local/lib/python3.12/site-packages (from cfgrib>=0.9.15.0->atlite) (25.3.0)\n",
      "Requirement already satisfied: click in /usr/local/python/3.12.1/lib/python3.12/site-packages (from cfgrib>=0.9.15.0->atlite) (8.2.1)\n",
      "Requirement already satisfied: eccodes>=0.9.8 in /usr/local/python/3.12.1/lib/python3.12/site-packages (from cfgrib>=0.9.15.0->atlite) (2.43.0)\n",
      "Requirement already satisfied: cloudpickle>=3.0.0 in /usr/local/python/3.12.1/lib/python3.12/site-packages (from dask>=2021.10.0->atlite) (3.1.1)\n",
      "Requirement already satisfied: fsspec>=2021.09.0 in /home/codespace/.local/lib/python3.12/site-packages (from dask>=2021.10.0->atlite) (2024.6.1)\n",
      "Requirement already satisfied: partd>=1.4.0 in /usr/local/python/3.12.1/lib/python3.12/site-packages (from dask>=2021.10.0->atlite) (1.4.2)\n",
      "Requirement already satisfied: cffi in /home/codespace/.local/lib/python3.12/site-packages (from eccodes>=0.9.8->cfgrib>=0.9.15.0->atlite) (1.17.1)\n",
      "Requirement already satisfied: findlibs in /usr/local/python/3.12.1/lib/python3.12/site-packages (from eccodes>=0.9.8->cfgrib>=0.9.15.0->atlite) (0.1.2)\n",
      "Requirement already satisfied: eccodeslib in /usr/local/python/3.12.1/lib/python3.12/site-packages (from eccodes>=0.9.8->cfgrib>=0.9.15.0->atlite) (2.43.0)\n",
      "Requirement already satisfied: h5py in /usr/local/python/3.12.1/lib/python3.12/site-packages (from h5netcdf>=1.6.1->atlite) (3.14.0)\n",
      "Requirement already satisfied: python-dateutil>=2.8.2 in /home/codespace/.local/lib/python3.12/site-packages (from pandas>=0.25->atlite) (2.9.0.post0)\n",
      "Requirement already satisfied: pytz>=2020.1 in /home/codespace/.local/lib/python3.12/site-packages (from pandas>=0.25->atlite) (2025.2)\n",
      "Requirement already satisfied: tzdata>=2022.7 in /home/codespace/.local/lib/python3.12/site-packages (from pandas>=0.25->atlite) (2025.2)\n",
      "Requirement already satisfied: locket in /usr/local/python/3.12.1/lib/python3.12/site-packages (from partd>=1.4.0->dask>=2021.10.0->atlite) (1.0.0)\n",
      "Requirement already satisfied: six>=1.5 in /home/codespace/.local/lib/python3.12/site-packages (from python-dateutil>=2.8.2->pandas>=0.25->atlite) (1.17.0)\n",
      "Requirement already satisfied: affine in /usr/local/python/3.12.1/lib/python3.12/site-packages (from rasterio!=1.4.0,!=1.4.1->atlite) (2.4.0)\n",
      "Requirement already satisfied: cligj>=0.5 in /usr/local/python/3.12.1/lib/python3.12/site-packages (from rasterio!=1.4.0,!=1.4.1->atlite) (0.7.2)\n",
      "Requirement already satisfied: click-plugins in /usr/local/python/3.12.1/lib/python3.12/site-packages (from rasterio!=1.4.0,!=1.4.1->atlite) (1.1.1.2)\n",
      "Requirement already satisfied: pyparsing in /home/codespace/.local/lib/python3.12/site-packages (from rasterio!=1.4.0,!=1.4.1->atlite) (3.2.3)\n",
      "Requirement already satisfied: pycparser in /home/codespace/.local/lib/python3.12/site-packages (from cffi->eccodes>=0.9.8->cfgrib>=0.9.15.0->atlite) (2.22)\n",
      "Requirement already satisfied: eckitlib<2,>=1.31.3 in /usr/local/python/3.12.1/lib/python3.12/site-packages (from eccodeslib->eccodes>=0.9.8->cfgrib>=0.9.15.0->atlite) (1.31.4)\n",
      "Requirement already satisfied: fckitlib<1,>=0.14.0 in /usr/local/python/3.12.1/lib/python3.12/site-packages (from eccodeslib->eccodes>=0.9.8->cfgrib>=0.9.15.0->atlite) (0.14.0)\n",
      "Requirement already satisfied: multiurl>=0.3.7 in /usr/local/python/3.12.1/lib/python3.12/site-packages (from ecmwf-datastores-client->cdsapi>=0.7.4->atlite) (0.3.7)\n",
      "Requirement already satisfied: pyogrio>=0.7.2 in /usr/local/python/3.12.1/lib/python3.12/site-packages (from geopandas->atlite) (0.11.1)\n",
      "Requirement already satisfied: gitdb<5,>=4.0.1 in /home/codespace/.local/lib/python3.12/site-packages (from gitpython->snakemake) (4.0.12)\n",
      "Requirement already satisfied: smmap<6,>=3.0.1 in /home/codespace/.local/lib/python3.12/site-packages (from gitdb<5,>=4.0.1->gitpython->snakemake) (5.0.2)\n",
      "Requirement already satisfied: jsonschema-specifications>=2023.03.6 in /home/codespace/.local/lib/python3.12/site-packages (from jsonschema->snakemake) (2025.4.1)\n",
      "Requirement already satisfied: rpds-py>=0.7.1 in /home/codespace/.local/lib/python3.12/site-packages (from jsonschema->snakemake) (0.26.0)\n",
      "Requirement already satisfied: fastjsonschema>=2.15 in /home/codespace/.local/lib/python3.12/site-packages (from nbformat->snakemake) (2.21.1)\n",
      "Requirement already satisfied: jupyter-core!=5.0.*,>=4.12 in /home/codespace/.local/lib/python3.12/site-packages (from nbformat->snakemake) (5.8.1)\n",
      "Requirement already satisfied: traitlets>=5.1 in /home/codespace/.local/lib/python3.12/site-packages (from nbformat->snakemake) (5.14.3)\n",
      "Requirement already satisfied: platformdirs>=2.5 in /home/codespace/.local/lib/python3.12/site-packages (from jupyter-core!=5.0.*,>=4.12->nbformat->snakemake) (4.3.8)\n",
      "Requirement already satisfied: cftime in /usr/local/python/3.12.1/lib/python3.12/site-packages (from netcdf4->atlite) (1.6.4.post1)\n",
      "Requirement already satisfied: python-utils>=3.8.1 in /usr/local/python/3.12.1/lib/python3.12/site-packages (from progressbar2->atlite) (3.9.1)\n",
      "\n",
      "\u001b[1m[\u001b[0m\u001b[34;49mnotice\u001b[0m\u001b[1;39;49m]\u001b[0m\u001b[39;49m A new release of pip is available: \u001b[0m\u001b[31;49m25.1.1\u001b[0m\u001b[39;49m -> \u001b[0m\u001b[32;49m25.2\u001b[0m\n",
      "\u001b[1m[\u001b[0m\u001b[34;49mnotice\u001b[0m\u001b[1;39;49m]\u001b[0m\u001b[39;49m To update, run: \u001b[0m\u001b[32;49mpython3 -m pip install --upgrade pip\u001b[0m\n"
     ]
    }
   ],
   "source": [
    "!pip install snakemake atlite snakemake-storage-plugin-http"
   ]
  },
  {
   "cell_type": "markdown",
   "id": "5a68a005",
   "metadata": {},
   "source": [
    "Install CBC via conda"
   ]
  },
  {
   "cell_type": "code",
   "execution_count": 5,
   "id": "ebca3d9a",
   "metadata": {},
   "outputs": [
    {
     "name": "stdout",
     "output_type": "stream",
     "text": [
      "Warning: 'defaults' already in 'channels' list, moving to the top\n"
     ]
    }
   ],
   "source": [
    "!conda config --add channels defaults"
   ]
  },
  {
   "cell_type": "code",
   "execution_count": 6,
   "id": "f58a748e",
   "metadata": {},
   "outputs": [
    {
     "name": "stdout",
     "output_type": "stream",
     "text": [
      "Channels:\n",
      " - conda-forge\n",
      " - defaults\n",
      "Platform: linux-64\n",
      "Collecting package metadata (repodata.json): done\n",
      "Solving environment: done\n",
      "\n",
      "\n",
      "==> WARNING: A newer version of conda exists. <==\n",
      "    current version: 25.5.1\n",
      "    latest version: 25.7.0\n",
      "\n",
      "Please update conda by running\n",
      "\n",
      "    $ conda update -n base -c defaults conda\n",
      "\n",
      "\n",
      "\n",
      "# All requested packages already installed.\n",
      "\n"
     ]
    }
   ],
   "source": [
    "!conda install --yes -c conda-forge coincbc"
   ]
  },
  {
   "cell_type": "markdown",
   "id": "3901ae8f",
   "metadata": {},
   "source": [
    "Clonar PyPSA-Spain"
   ]
  },
  {
   "cell_type": "code",
   "execution_count": 7,
   "id": "6549125e",
   "metadata": {},
   "outputs": [
    {
     "name": "stdout",
     "output_type": "stream",
     "text": [
      "fatal: destination path 'pypsa-spain' already exists and is not an empty directory.\n"
     ]
    }
   ],
   "source": [
    "!git clone https://github.com/cristobal-GC/pypsa-spain.git"
   ]
  },
  {
   "cell_type": "code",
   "execution_count": 8,
   "id": "0800199e",
   "metadata": {},
   "outputs": [
    {
     "name": "stdout",
     "output_type": "stream",
     "text": [
      "/workspaces/pypsa-spain/pypsa-spain\n",
      "CITATION.cff  README.md   benchmarks  data     docker  logs\t     rules\n",
      "LICENSES      REUSE.toml  borg-it     data_ES  docs    matplotlibrc  scripts\n",
      "Makefile      Snakefile   config      doc      envs    ruff.toml     test\n"
     ]
    }
   ],
   "source": [
    "%cd pypsa-spain\n",
    "!ls"
   ]
  },
  {
   "cell_type": "code",
   "execution_count": 13,
   "id": "970acad2",
   "metadata": {},
   "outputs": [
    {
     "name": "stdout",
     "output_type": "stream",
     "text": [
      "\u001b[33mhost: codespaces-5e9d56\u001b[0m\n",
      "\u001b[33mBuilding DAG of jobs...\u001b[0m\n",
      "\u001b[33mJob stats:\n",
      "job                     count\n",
      "--------------------  -------\n",
      "base_network                1\n",
      "build_osm_boundaries        4\n",
      "build_shapes                1\n",
      "total                       6\n",
      "\u001b[0m\n",
      "\n",
      "\u001b[32m[Thu Sep 11 10:47:21 2025]\n",
      "rule build_osm_boundaries:\n",
      "    input: data/osm-boundaries/json/MD_adm1.json, data/eez/World_EEZ_v12_20231025_LR/eez_v12_lowres.gpkg\n",
      "    output: data/osm-boundaries/build/MD_adm1.geojson\n",
      "    log: logs/build_osm_boundaries_MD.log\n",
      "    jobid: 7\n",
      "    reason: Missing output files: data/osm-boundaries/build/MD_adm1.geojson\n",
      "    wildcards: country=MD\n",
      "    resources: tmpdir=<TBD>, mem_mb=1500, mem_mib=1431\u001b[0m\n",
      "\u001b[33mShell command: None\u001b[0m\n",
      "\n",
      "\u001b[32m[Thu Sep 11 10:47:21 2025]\n",
      "rule build_osm_boundaries:\n",
      "    input: data/osm-boundaries/json/BA_adm1.json, data/eez/World_EEZ_v12_20231025_LR/eez_v12_lowres.gpkg\n",
      "    output: data/osm-boundaries/build/BA_adm1.geojson\n",
      "    log: logs/build_osm_boundaries_BA.log\n",
      "    jobid: 5\n",
      "    reason: Missing output files: data/osm-boundaries/build/BA_adm1.geojson\n",
      "    wildcards: country=BA\n",
      "    resources: tmpdir=<TBD>, mem_mb=1500, mem_mib=1431\u001b[0m\n",
      "\u001b[33mShell command: None\u001b[0m\n",
      "\n",
      "\u001b[32m[Thu Sep 11 10:47:21 2025]\n",
      "rule build_osm_boundaries:\n",
      "    input: data/osm-boundaries/json/UA_adm1.json, data/eez/World_EEZ_v12_20231025_LR/eez_v12_lowres.gpkg\n",
      "    output: data/osm-boundaries/build/UA_adm1.geojson\n",
      "    log: logs/build_osm_boundaries_UA.log\n",
      "    jobid: 9\n",
      "    reason: Missing output files: data/osm-boundaries/build/UA_adm1.geojson\n",
      "    wildcards: country=UA\n",
      "    resources: tmpdir=<TBD>, mem_mb=1500, mem_mib=1431\u001b[0m\n",
      "\u001b[33mShell command: None\u001b[0m\n",
      "\n",
      "\u001b[32m[Thu Sep 11 10:47:21 2025]\n",
      "rule build_osm_boundaries:\n",
      "    input: data/osm-boundaries/json/XK_adm1.json, data/eez/World_EEZ_v12_20231025_LR/eez_v12_lowres.gpkg\n",
      "    output: data/osm-boundaries/build/XK_adm1.geojson\n",
      "    log: logs/build_osm_boundaries_XK.log\n",
      "    jobid: 11\n",
      "    reason: Missing output files: data/osm-boundaries/build/XK_adm1.geojson\n",
      "    wildcards: country=XK\n",
      "    resources: tmpdir=<TBD>, mem_mb=1500, mem_mib=1431\u001b[0m\n",
      "\u001b[33mShell command: None\u001b[0m\n",
      "\n",
      "\u001b[32m[Thu Sep 11 10:47:21 2025]\n",
      "rule build_shapes:\n",
      "    input: data/eez/World_EEZ_v12_20231025_LR/eez_v12_lowres.gpkg, data/nuts/NUTS_RG_01M_2021_4326_LEVL_3.geojson, data/osm-boundaries/build/BA_adm1.geojson, data/osm-boundaries/build/MD_adm1.geojson, data/osm-boundaries/build/UA_adm1.geojson, data/osm-boundaries/build/XK_adm1.geojson, data/jrc-ardeco/ARDECO-SUVGDP.2021.table.csv, data/jrc-ardeco/ARDECO-SNPTD.2021.table.csv, data/bundle/GDP_per_capita_PPP_1990_2015_v2.nc, data/bundle/ppp_2019_1km_Aggregated.tif\n",
      "    output: resources/country_shapes.geojson, resources/offshore_shapes.geojson, resources/europe_shape.geojson, resources/nuts3_shapes.geojson\n",
      "    log: logs/build_shapes.log\n",
      "    jobid: 2\n",
      "    benchmark: benchmarks/build_shapes\n",
      "    reason: Missing output files: resources/nuts3_shapes.geojson, resources/europe_shape.geojson, resources/offshore_shapes.geojson, resources/country_shapes.geojson; Input files updated by another job: data/osm-boundaries/build/XK_adm1.geojson, data/osm-boundaries/build/UA_adm1.geojson, data/osm-boundaries/build/BA_adm1.geojson, data/osm-boundaries/build/MD_adm1.geojson\n",
      "    resources: tmpdir=<TBD>, mem_mb=1500, mem_mib=1431\u001b[0m\n",
      "\u001b[33mShell command: None\u001b[0m\n",
      "\n",
      "\u001b[32m[Thu Sep 11 10:47:21 2025]\n",
      "rule base_network:\n",
      "    input: data/osm-prebuilt/0.6/transformers.csv, data/osm-prebuilt/0.6/converters.csv, data/osm-prebuilt/0.6/lines.csv, data/osm-prebuilt/0.6/links.csv, data/osm-prebuilt/0.6/buses.csv, resources/nuts3_shapes.geojson, resources/country_shapes.geojson, resources/offshore_shapes.geojson, resources/europe_shape.geojson\n",
      "    output: resources/networks/base.nc, resources/regions_onshore.geojson, resources/regions_offshore.geojson, resources/admin_shapes.geojson\n",
      "    log: logs/base_network.log\n",
      "    jobid: 0\n",
      "    benchmark: benchmarks/base_network\n",
      "    reason: Missing output files: resources/networks/base.nc; Input files updated by another job: resources/nuts3_shapes.geojson, resources/europe_shape.geojson, resources/offshore_shapes.geojson, resources/country_shapes.geojson\n",
      "    threads: 4\n",
      "    resources: tmpdir=<TBD>, mem_mb=2000, mem_mib=1908\u001b[0m\n",
      "\u001b[33mShell command: None\u001b[0m\n",
      "\u001b[33mJob stats:\n",
      "job                     count\n",
      "--------------------  -------\n",
      "base_network                1\n",
      "build_osm_boundaries        4\n",
      "build_shapes                1\n",
      "total                       6\n",
      "\u001b[0m\n",
      "\u001b[33mReasons:\n",
      "    (check individual jobs above for details)\n",
      "    input files updated by another job:\n",
      "        base_network, build_shapes\n",
      "    output files have to be generated:\n",
      "        base_network, build_osm_boundaries, build_shapes\u001b[0m\n",
      "\u001b[33mThis was a dry-run (flag -n). The order of jobs does not reflect the order of execution.\u001b[0m\n"
     ]
    }
   ],
   "source": [
    "resources = \"resources/networks/\"\n",
    "!snakemake -n -p resources/networks/base.nc --configfile config/config_ES.yaml --cores 4"
   ]
  }
 ],
 "metadata": {
  "kernelspec": {
   "display_name": "Python 3",
   "language": "python",
   "name": "python3"
  },
  "language_info": {
   "codemirror_mode": {
    "name": "ipython",
    "version": 3
   },
   "file_extension": ".py",
   "mimetype": "text/x-python",
   "name": "python",
   "nbconvert_exporter": "python",
   "pygments_lexer": "ipython3",
   "version": "3.12.1"
  }
 },
 "nbformat": 4,
 "nbformat_minor": 5
}
