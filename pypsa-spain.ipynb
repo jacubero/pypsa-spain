{
 "cells": [
  {
   "cell_type": "markdown",
   "id": "53429dd0",
   "metadata": {},
   "source": [
    "Install pypsa"
   ]
  },
  {
   "cell_type": "code",
   "execution_count": null,
   "id": "22084987",
   "metadata": {
    "vscode": {
     "languageId": "plaintext"
    }
   },
   "outputs": [],
   "source": [
    "!pip install pypsa"
   ]
  },
  {
   "cell_type": "code",
   "execution_count": null,
   "id": "b5a49bda",
   "metadata": {
    "vscode": {
     "languageId": "plaintext"
    }
   },
   "outputs": [],
   "source": [
    "import pypsa"
   ]
  },
  {
   "cell_type": "markdown",
   "id": "52fa98e9",
   "metadata": {},
   "source": [
    "Install snakemake and all the needed libraries"
   ]
  },
  {
   "cell_type": "code",
   "execution_count": null,
   "id": "2bfb4d8e",
   "metadata": {
    "vscode": {
     "languageId": "plaintext"
    }
   },
   "outputs": [],
   "source": [
    "!pip install snakemake atlite fiona snakemake-storage-plugins"
   ]
  },
  {
   "cell_type": "markdown",
   "id": "3901ae8f",
   "metadata": {},
   "source": [
    "Clonar PyPSA-Spain"
   ]
  },
  {
   "cell_type": "code",
   "execution_count": null,
   "id": "6549125e",
   "metadata": {
    "vscode": {
     "languageId": "plaintext"
    }
   },
   "outputs": [],
   "source": [
    "!git clone https://github.com/cristobal-GC/pypsa-spain.git"
   ]
  },
  {
   "cell_type": "code",
   "execution_count": null,
   "id": "0800199e",
   "metadata": {
    "vscode": {
     "languageId": "plaintext"
    }
   },
   "outputs": [],
   "source": [
    "%cd pypsa-spain\n",
    "!ls"
   ]
  },
  {
   "cell_type": "code",
   "execution_count": null,
   "id": "970acad2",
   "metadata": {
    "vscode": {
     "languageId": "plaintext"
    }
   },
   "outputs": [],
   "source": [
    "resources = \"resources/networks/\"\n",
    "!snakemake resources/networks/base.nc --configfile config/config_ES.yaml --cores 4"
   ]
  }
 ],
 "metadata": {
  "language_info": {
   "name": "python"
  }
 },
 "nbformat": 4,
 "nbformat_minor": 5
}
